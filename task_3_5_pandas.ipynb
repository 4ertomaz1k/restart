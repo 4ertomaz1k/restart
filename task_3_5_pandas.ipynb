{
 "cells": [
  {
   "attachments": {},
   "cell_type": "markdown",
   "metadata": {},
   "source": [
    "Таблица"
   ]
  },
  {
   "cell_type": "code",
   "execution_count": 2,
   "metadata": {},
   "outputs": [
    {
     "name": "stdout",
     "output_type": "stream",
     "text": [
      "     Имя  Возраст            Город  Зарплата\n",
      "0   Иван       25           Москва     85000\n",
      "1  Мария       34  Санкт-Петербург     90000\n",
      "2   Петр       17           Москва     60000\n",
      "3   Анна       42           Казань    110000\n",
      "4  Ольга       29           Москва     95000\n"
     ]
    }
   ],
   "source": [
    "import pandas as pd\n",
    "\n",
    "# Создание DataFrame\n",
    "df = pd.DataFrame({\n",
    "    'Имя': ['Иван', 'Мария', 'Петр', 'Анна', 'Ольга'],\n",
    "    'Возраст': [25, 34, 17, 42, 29],\n",
    "    'Город': ['Москва', 'Санкт-Петербург', 'Москва', 'Казань', 'Москва'],\n",
    "    'Зарплата': [85000, 90000, 60000, 110000, 95000]\n",
    "})\n",
    "\n",
    "print(df)"
   ]
  },
  {
   "attachments": {},
   "cell_type": "markdown",
   "metadata": {},
   "source": [
    "1. Страше 18"
   ]
  },
  {
   "cell_type": "code",
   "execution_count": 3,
   "metadata": {},
   "outputs": [
    {
     "name": "stdout",
     "output_type": "stream",
     "text": [
      "     Имя  Возраст            Город  Зарплата\n",
      "0   Иван       25           Москва     85000\n",
      "1  Мария       34  Санкт-Петербург     90000\n",
      "3   Анна       42           Казань    110000\n",
      "4  Ольга       29           Москва     95000\n"
     ]
    }
   ],
   "source": [
    "older_18 = df[(df['Возраст']) > 18]\n",
    "print(older_18)"
   ]
  },
  {
   "attachments": {},
   "cell_type": "markdown",
   "metadata": {},
   "source": [
    "2. Среднее значение зарплаты по городу"
   ]
  },
  {
   "cell_type": "code",
   "execution_count": 8,
   "metadata": {},
   "outputs": [
    {
     "name": "stdout",
     "output_type": "stream",
     "text": [
      "Город\n",
      "Казань             110000.0\n",
      "Москва              80000.0\n",
      "Санкт-Петербург     90000.0\n",
      "Name: Зарплата, dtype: float64\n"
     ]
    }
   ],
   "source": [
    "avg_salary_by_city = df.groupby('Город')['Зарплата'].mean()\n",
    "print(avg_salary_by_city)"
   ]
  },
  {
   "attachments": {},
   "cell_type": "markdown",
   "metadata": {},
   "source": [
    "3. Объедини таблицы “пользователи” и “города”"
   ]
  },
  {
   "cell_type": "code",
   "execution_count": 41,
   "metadata": {},
   "outputs": [
    {
     "name": "stdout",
     "output_type": "stream",
     "text": [
      "     Имя            Город\n",
      "0   Иван           Москва\n",
      "1  Мария  Санкт-Петербург\n",
      "2   Петр           Москва\n",
      "3   Анна           Казань\n",
      "4  Ольга           Москва\n"
     ]
    }
   ],
   "source": [
    "new = df[['Имя', 'Город']]\n",
    "print(new)"
   ]
  }
 ],
 "metadata": {
  "kernelspec": {
   "display_name": "Python 3",
   "language": "python",
   "name": "python3"
  },
  "language_info": {
   "codemirror_mode": {
    "name": "ipython",
    "version": 3
   },
   "file_extension": ".py",
   "mimetype": "text/x-python",
   "name": "python",
   "nbconvert_exporter": "python",
   "pygments_lexer": "ipython3",
   "version": "3.13.1"
  },
  "orig_nbformat": 4,
  "vscode": {
   "interpreter": {
    "hash": "ae97bf60cbdea15e814a6178ee89c1a081b297fbede9dfcb1b25955d8efdc466"
   }
  }
 },
 "nbformat": 4,
 "nbformat_minor": 2
}
